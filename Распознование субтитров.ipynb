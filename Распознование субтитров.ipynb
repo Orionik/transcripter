{
 "cells": [
  {
   "cell_type": "code",
   "execution_count": 2,
   "metadata": {},
   "outputs": [
    {
     "name": "stderr",
     "output_type": "stream",
     "text": [
      "C:\\Users\\Orion\\AppData\\Local\\Temp\\ipykernel_13856\\190241301.py:2: DeprecationWarning: \n",
      "Pyarrow will become a required dependency of pandas in the next major release of pandas (pandas 3.0),\n",
      "(to allow more performant data types, such as the Arrow string type, and better interoperability with other libraries)\n",
      "but was not found to be installed on your system.\n",
      "If this would cause problems for you,\n",
      "please provide us feedback at https://github.com/pandas-dev/pandas/issues/54466\n",
      "        \n",
      "  import pandas as pd\n"
     ]
    }
   ],
   "source": [
    "from selenium import webdriver\n",
    "import pandas as pd\n",
    "import numpy as np\n",
    "from selenium.webdriver.edge.options import Options\n",
    "from selenium.webdriver.common.by import By\n",
    "from selenium.webdriver.support.ui import WebDriverWait \n",
    "from selenium.webdriver.support import expected_conditions as EC\n",
    "\n",
    "\n",
    "options = Options()\n",
    "options.headless = True\n",
    "options.add_argument(\"--window-size=1920,1200\")\n",
    "driver = webdriver.Edge(options=options)\n",
    "driver.get(\"https://meet.google.com/xtb-trke-vxu\")\n",
    "\n"
   ]
  },
  {
   "cell_type": "code",
   "execution_count": 2,
   "metadata": {},
   "outputs": [
    {
     "name": "stderr",
     "output_type": "stream",
     "text": [
      "C:\\Users\\Orion\\AppData\\Local\\Temp\\ipykernel_3244\\3059492606.py:3: DeprecationWarning: \n",
      "Pyarrow will become a required dependency of pandas in the next major release of pandas (pandas 3.0),\n",
      "(to allow more performant data types, such as the Arrow string type, and better interoperability with other libraries)\n",
      "but was not found to be installed on your system.\n",
      "If this would cause problems for you,\n",
      "please provide us feedback at https://github.com/pandas-dev/pandas/issues/54466\n",
      "        \n",
      "  import pandas as pd\n"
     ]
    },
    {
     "name": "stdout",
     "output_type": "stream",
     "text": [
      "/html/body/div/c-wiz/div/div/div[24]/div[3]/div/div[2]/div[4]/div/div/div[1]/div[1]/div/div[6]/div[2]/div/div[1]\n",
      "/html/body/div/c-wiz/div/div/div[24]/div[3]/div/div[2]/div[4]/div/div/div[1]/div[1]/div/div[6]/div[1]/div/div/div[1]\n",
      "/html/body/div/c-wiz/div/div/div[24]/div[3]/div/div[2]/div[4]/div/div/div[2]/div[1]/div[2]/div[1]/div[1]/button\n",
      "/html/body/div[1]/c-wiz/div/div/div[24]/div[3]/div[10]/div/div/div[2]/div/div[3]/span/button\n",
      "/html/body/div[1]/c-wiz/div/div/div[24]/div[3]/div[10]/div/div/div[2]/div/div[7]/div[5]/div[1]/span/button\n",
      "/html/body/div[3]/div/ul/li[12]\n",
      "/html/body/div[1]/div[4]/div[2]/div/div/div/div/div[1]/div/div[4]/span/button\n",
      "/html/body/div[1]/div[4]/div[2]/div/div/div/div/div[2]/div[2]/div/div[4]/div/div[4]/div/div\n",
      "/html/body/div[1]/div[4]/div[2]/div/div/div/div/div[2]/div[2]/div/div[4]/div/div[4]/div/div/div[2]/ul/li[51]\n",
      "/html/body/div[1]/div[4]/div[2]/div/button\n",
      "/html/body/div[1]/c-wiz/div/div/div[24]/div[3]/div[10]/div/div/div[3]/div/div[2]/div/span/button\n"
     ]
    }
   ],
   "source": [
    "\n",
    "# import required modules\n",
    "from selenium import webdriver\n",
    "import pandas as pd\n",
    "import numpy as np\n",
    "from selenium.webdriver.edge.options import Options\n",
    "from selenium.webdriver.common.by import By\n",
    "from selenium.webdriver.support.ui import WebDriverWait \n",
    "from selenium.webdriver.support import expected_conditions as EC\n",
    "import time\n",
    "\n",
    "\n",
    "# creating chrome instance\n",
    "opt = Options()\n",
    "opt.add_argument('--disable-blink-features=AutomationControlled')\n",
    "opt.add_argument('--start-maximized')\n",
    "opt.add_experimental_option(\"prefs\", {\n",
    "\n",
    "\t\"profile.default_content_setting_values.media_stream_mic\": 1,\n",
    "\t\"profile.default_content_setting_values.media_stream_camera\": 1,\n",
    "\t\"profile.default_content_setting_values.geolocation\": 0,\n",
    "\t\"profile.default_content_setting_values.notifications\": 1\n",
    "})\n",
    "driver = webdriver.Chrome(options=opt)\n",
    "\n",
    "# go to google meet\n",
    "driver.get('https://meet.google.com/bug-ohcu-and')\n",
    "#https://meet.google.com/bug-ohcu-and\n",
    "#https://meet.google.com/neg-agaj-knq\n",
    "\n",
    "try:\n",
    "    element = WebDriverWait(driver, 20).until(\n",
    "        EC.presence_of_element_located((By.XPATH, \"/html/body/div/c-wiz/div/div/div[24]/div[3]/div/div[2]/div[4]/div/div/div[2]/div[1]/div[1]/div[3]/label/input\"))\n",
    "    )\n",
    "finally:\n",
    "\tdriver.find_element(by=\"xpath\", value='/html/body/div/c-wiz/div/div/div[24]/div[3]/div/div[2]/div[4]/div/div/div[2]/div[1]/div[1]/div[3]/label/input').send_keys('Recording Bot')\n",
    "\n",
    "xpathes = [\n",
    "     \n",
    "    '/html/body/div/c-wiz/div/div/div[24]/div[3]/div/div[2]/div[4]/div/div/div[1]/div[1]/div/div[6]/div[2]/div/div[1]',\n",
    "    '/html/body/div/c-wiz/div/div/div[24]/div[3]/div/div[2]/div[4]/div/div/div[1]/div[1]/div/div[6]/div[1]/div/div/div[1]',\n",
    "    '/html/body/div/c-wiz/div/div/div[24]/div[3]/div/div[2]/div[4]/div/div/div[2]/div[1]/div[2]/div[1]/div[1]/button',\n",
    "    '/html/body/div[1]/c-wiz/div/div/div[24]/div[3]/div[10]/div/div/div[2]/div/div[3]/span/button',\n",
    "    '/html/body/div[1]/c-wiz/div/div/div[24]/div[3]/div[10]/div/div/div[2]/div/div[7]/div[5]/div[1]/span/button',\n",
    "    '/html/body/div[3]/div/ul/li[12]',\n",
    "    '/html/body/div[1]/div[4]/div[2]/div/div/div/div/div[1]/div/div[4]/span/button',\n",
    "    '/html/body/div[1]/div[4]/div[2]/div/div/div/div/div[2]/div[2]/div/div[4]/div/div[4]/div/div',\n",
    "    '/html/body/div[1]/div[4]/div[2]/div/div/div/div/div[2]/div[2]/div/div[4]/div/div[4]/div/div/div[2]/ul/li[51]',\n",
    "    '/html/body/div[1]/div[4]/div[2]/div/button',\n",
    "    '/html/body/div[1]/c-wiz/div/div/div[24]/div[3]/div[10]/div/div/div[3]/div/div[2]/div/span/button'\n",
    "\n",
    "    ]\n",
    "    \n",
    "for xpath in xpathes:\n",
    "    try:\n",
    "        print(xpath)\n",
    "        element = WebDriverWait(driver, 60).until(\n",
    "            EC.presence_of_element_located((By.XPATH, xpath))\n",
    "        )\n",
    "        #element = WebDriverWait(driver, 10).until(EC.element_to_be_clickable((By.XPATH, xpath)))\n",
    "\n",
    "    finally: \n",
    "        time.sleep(0.5)\n",
    "        driver.find_element(by=\"xpath\", value=xpath).click()\n",
    "\n",
    "#Находим список участников\n",
    "#time.sleep(0.5)\n",
    "#element = driver.find_element(by=\"xpath\", value='/html/body/div[1]/c-wiz/div/div/div[24]/div[3]/div[4]/div[2]/div/div[2]/div[2]/div[5]/div/div/div/span/div')\n",
    "#members = [el.find_element(By.CLASS_NAME, value='zWGUib').text for el in element.find_elements(by=\"xpath\", value='*')]\n",
    "\n",
    "try:\n",
    "    element = WebDriverWait(driver, 60).until(\n",
    "        EC.presence_of_element_located((By.XPATH, '/html/body/div[1]/c-wiz/div/div/div[24]/div[3]/div[3]/div[2]/div/div[1]/div[3]/div/span/button'))\n",
    "    )\n",
    "finally: \n",
    "    driver.find_element(by=\"xpath\", value='/html/body/div[1]/c-wiz/div/div/div[24]/div[3]/div[3]/div[2]/div/div[1]/div[3]/div/span/button').click()\n",
    "\n",
    "try:\n",
    "    element = WebDriverWait(driver, 60).until(\n",
    "        EC.presence_of_element_located((By.XPATH, '/html/body/div[1]/c-wiz/div/div/div[24]/div[3]/div[10]/div/div/div[3]/div/div[3]/div/div/span/button'))\n",
    "    )\n",
    "finally: \n",
    "    driver.find_element(by=\"xpath\", value='/html/body/div[1]/c-wiz/div/div/div[24]/div[3]/div[10]/div/div/div[3]/div/div[3]/div/div/span/button').click()\n",
    "\n",
    "\n",
    "\t"
   ]
  }
 ],
 "metadata": {
  "kernelspec": {
   "display_name": "Python 3",
   "language": "python",
   "name": "python3"
  },
  "language_info": {
   "codemirror_mode": {
    "name": "ipython",
    "version": 3
   },
   "file_extension": ".py",
   "mimetype": "text/x-python",
   "name": "python",
   "nbconvert_exporter": "python",
   "pygments_lexer": "ipython3",
   "version": "3.11.6"
  }
 },
 "nbformat": 4,
 "nbformat_minor": 2
}
